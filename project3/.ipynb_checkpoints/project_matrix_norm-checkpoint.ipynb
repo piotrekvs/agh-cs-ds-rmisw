{
 "cells": [
  {
   "cell_type": "markdown",
   "id": "802c1c1ea48d0563",
   "metadata": {
    "collapsed": false,
    "jupyter": {
     "outputs_hidden": false
    }
   },
   "source": [
    "Rachunek macierzowy \n",
    "Projekt 3\n",
    "Dominik Tomalczyk, Piotr Van-selow"
   ]
  },
  {
   "cell_type": "code",
   "execution_count": 1,
   "id": "59086e0095b30fd9",
   "metadata": {
    "ExecuteTime": {
     "end_time": "2024-04-16T21:19:21.566622Z",
     "start_time": "2024-04-16T21:19:21.371344Z"
    },
    "collapsed": false,
    "jupyter": {
     "outputs_hidden": false
    }
   },
   "outputs": [],
   "source": [
    "from numpy.linalg import inv, eigvals\n",
    "import numpy as np"
   ]
  },
  {
   "cell_type": "markdown",
   "id": "aa7e8b1385c27077",
   "metadata": {
    "collapsed": false,
    "jupyter": {
     "outputs_hidden": false
    }
   },
   "source": [
    "1. Współczynnik uwarunkowania macierzy\n",
    "![](cond.png)"
   ]
  },
  {
   "cell_type": "code",
   "execution_count": 2,
   "id": "5b2e8d5c58165adc",
   "metadata": {
    "ExecuteTime": {
     "end_time": "2024-04-16T21:19:21.610666Z",
     "start_time": "2024-04-16T21:19:21.571246Z"
    },
    "collapsed": false,
    "jupyter": {
     "outputs_hidden": false
    }
   },
   "outputs": [],
   "source": [
    "def cond_matrix(A, norm) -> float:\n",
    "    return norm(A) * norm(inv(A))"
   ]
  },
  {
   "cell_type": "markdown",
   "id": "149ed2cb24d01a34",
   "metadata": {
    "collapsed": false,
    "jupyter": {
     "outputs_hidden": false
    }
   },
   "source": [
    "2. Norma macierzowa M1\n",
    "![](m1.png)\n",
    "\n",
    "Można ją również wyliczyć równoznacznie:\n",
    "![](m1_trick.png)\n"
   ]
  },
  {
   "cell_type": "code",
   "execution_count": 3,
   "id": "420e7cca6973c2d7",
   "metadata": {
    "ExecuteTime": {
     "end_time": "2024-04-16T21:19:21.632845Z",
     "start_time": "2024-04-16T21:19:21.624225Z"
    },
    "collapsed": false,
    "jupyter": {
     "outputs_hidden": false
    }
   },
   "outputs": [
    {
     "name": "stdout",
     "output_type": "stream",
     "text": [
      "Norma M1 dla macierzy A1: 42.00\n",
      "Współczynnik uwarunkowania macierzy A1 z normą M1: 5.870967741935485\n"
     ]
    }
   ],
   "source": [
    "A1 = [[1,2,3],\n",
    "      [3,5,33],\n",
    "      [8,9,6],]\n",
    "\n",
    "def m1_norm(A) -> float:\n",
    "    num_columns = len(A[0])\n",
    "    column_sums = [0] * num_columns\n",
    "    \n",
    "    for row in A:\n",
    "        for i in range(num_columns):\n",
    "            column_sums[i] += row[i]\n",
    "\n",
    "    return max(column_sums)\n",
    "\n",
    "print(\"Norma M1 dla macierzy A1: {:.2f}\".format(m1_norm(A1)))\n",
    "print(f\"Współczynnik uwarunkowania macierzy A1 z normą M1: {cond_matrix(A1, m1_norm)}\")"
   ]
  },
  {
   "cell_type": "markdown",
   "id": "f821db9d6d5a981e",
   "metadata": {
    "collapsed": false,
    "jupyter": {
     "outputs_hidden": false
    }
   },
   "source": [
    "2. Norma macierzowa M2\n",
    "![](m2.png)\n",
    "\n",
    "Można ją również wyliczyć:\n",
    "![](m2_trick.png)"
   ]
  },
  {
   "cell_type": "code",
   "execution_count": 4,
   "id": "c957c5d7017fabbd",
   "metadata": {
    "ExecuteTime": {
     "end_time": "2024-04-16T21:19:21.640768Z",
     "start_time": "2024-04-16T21:19:21.634387Z"
    },
    "collapsed": false,
    "jupyter": {
     "outputs_hidden": false
    }
   },
   "outputs": [
    {
     "name": "stdout",
     "output_type": "stream",
     "text": [
      "Norma M2 dla macierzy A2: 25.03+0.00j\n",
      "Współczynnik uwarunkowania macierzy A2 z normą M2: (1.00000000000001+0j)\n"
     ]
    }
   ],
   "source": [
    "A2 = [\n",
    "    [11,23,2],\n",
    "    [7,5,7],\n",
    "    [8,6,6],\n",
    "]\n",
    "def m2_norm(A) -> float:\n",
    "    eigenvalues, eigenvectors = np.linalg.eig(A)\n",
    "    return max(eigenvalues)\n",
    "\n",
    "print(\"Norma M2 dla macierzy A2: {:.2f}\".format(m2_norm(A2)))\n",
    "print(f\"Współczynnik uwarunkowania macierzy A2 z normą M2: {cond_matrix(A2, m2_norm)}\")"
   ]
  },
  {
   "cell_type": "markdown",
   "id": "fa8bc08203c5f102",
   "metadata": {
    "collapsed": false,
    "jupyter": {
     "outputs_hidden": false
    }
   },
   "source": [
    "3. Norma macierzowa M inf\n",
    "![](minf.png)\n",
    "\n",
    "Można ja rowniez wyliczyc:\n",
    "![](minf_trick.png)\n",
    "\n"
   ]
  },
  {
   "cell_type": "code",
   "execution_count": 5,
   "id": "b931841f31cbc7c0",
   "metadata": {
    "ExecuteTime": {
     "end_time": "2024-04-16T21:19:21.657655Z",
     "start_time": "2024-04-16T21:19:21.645332Z"
    },
    "collapsed": false,
    "jupyter": {
     "outputs_hidden": false
    }
   },
   "outputs": [
    {
     "name": "stdout",
     "output_type": "stream",
     "text": [
      "Norma Minf dla macierzy A3: 15.00\n",
      "Współczynnik uwarunkowania macierzy A3 z normą Minf: 9.411764705882353\n"
     ]
    }
   ],
   "source": [
    "\n",
    "A3 = [\n",
    "    [7,1,2],\n",
    "    [3,0,8],\n",
    "    [13,1,1],\n",
    "]\n",
    "def minf_norm(A) -> float:\n",
    "    row_sums = []\n",
    "    for row in A:\n",
    "        row_sums.append(sum(row))\n",
    "\n",
    "    return max(row_sums)\n",
    "\n",
    "print(\"Norma Minf dla macierzy A3: {:.2f}\".format(minf_norm(A3)))\n",
    "print(f\"Współczynnik uwarunkowania macierzy A3 z normą Minf: {cond_matrix(A3, minf_norm)}\")"
   ]
  },
  {
   "cell_type": "markdown",
   "id": "e1db2836218acc48",
   "metadata": {
    "collapsed": false,
    "jupyter": {
     "outputs_hidden": false
    }
   },
   "source": [
    "4. Norma macierzowa M p\n",
    " ???\n"
   ]
  },
  {
   "cell_type": "markdown",
   "id": "e01dcd452f4deec6",
   "metadata": {
    "collapsed": false,
    "jupyter": {
     "outputs_hidden": false
    }
   },
   "source": [
    "5. Rozkład SVD dla macierzy\n",
    "\n",
    "Postac rozkladu SVD:\n",
    "![](svd.png)\n",
    "\n",
    "gdzie:\n",
    "U - macierz wektorów własnych AA.T\n",
    "V - macierz wektorów własnych A.TA\n",
    "Sigma - macierz która na przekątnej ma pierwiastki wartości własnych macierzy AA.T"
   ]
  },
  {
   "cell_type": "code",
   "execution_count": 6,
   "id": "656b001086a2037a",
   "metadata": {
    "ExecuteTime": {
     "end_time": "2024-04-16T21:19:21.664548Z",
     "start_time": "2024-04-16T21:19:21.658791Z"
    },
    "collapsed": false,
    "jupyter": {
     "outputs_hidden": false
    }
   },
   "outputs": [
    {
     "name": "stdout",
     "output_type": "stream",
     "text": [
      "Macierz U:\n",
      "[[ 0.32192765 -0.11663948 -0.93955192]\n",
      " [ 0.58234916  0.80684247  0.09937142]\n",
      " [ 0.74647977 -0.57913768  0.32766981]]\n",
      "\n",
      "Macierz Sigma:\n",
      "[[11.39327489  0.          0.        ]\n",
      " [ 0.          3.71293842  0.        ]\n",
      " [ 0.          0.          0.63825973]]\n",
      "\n",
      "Macierz V^T:\n",
      "[[ 0.39256009  0.38410854  0.83567769]\n",
      " [-0.22071609 -0.84271997  0.49102694]\n",
      " [ 0.89284992 -0.37720509 -0.24603929]]\n",
      "\n",
      "Rekonstrukcja macierzy U*Sigma*V.T :\n",
      "[[ 1.00000000e+00  2.00000000e+00  3.00000000e+00]\n",
      " [ 2.00000000e+00 -1.44554742e-15  7.00000000e+00]\n",
      " [ 4.00000000e+00  5.00000000e+00  6.00000000e+00]]\n"
     ]
    }
   ],
   "source": [
    "def svd_eigen(A):\n",
    "    # Oblicz macierz A^T A\n",
    "    ATA = np.dot(A.T, A)\n",
    "    \n",
    "    # Oblicz wartości własne i wektory własne macierzy A^T A\n",
    "    eigenvalues, eigenvectors = np.linalg.eig(ATA)\n",
    "    \n",
    "    # Sortowanie malejące wartości własnych i wektorów własnych\n",
    "    idx = eigenvalues.argsort()[::-1]\n",
    "    eigenvalues = eigenvalues[idx]\n",
    "    eigenvectors = eigenvectors[:,idx]\n",
    "    \n",
    "    # Macierz V - prawych wektorów własnych\n",
    "    V = eigenvectors\n",
    "    \n",
    "    # Macierz Sigma - diagonalna macierz wartości osobliwych\n",
    "    Sigma = np.diag(np.sqrt(eigenvalues))\n",
    "    \n",
    "    # Macierz U - lewych wektorów własnych\n",
    "    # Ze wzoru A = USVT wyznaczamy U: U = A * V * Sigma(-1)\n",
    "    U = np.dot(A, np.dot(V, np.linalg.inv(Sigma)))\n",
    "    \n",
    "    return U, Sigma, V.T\n",
    "\n",
    "# Przykładowa macierz A\n",
    "A = np.array([[1, 2, 3], [2, 0,7], [4,5,6]])\n",
    "\n",
    "# Oblicz SVD\n",
    "U, Sigma, VT = svd_eigen(A)\n",
    "print(\"Macierz U:\")\n",
    "print(U)\n",
    "print(\"\\nMacierz Sigma:\")\n",
    "print(Sigma)\n",
    "print(\"\\nMacierz V^T:\")\n",
    "print(VT)\n",
    "print()\n",
    "print(\"Rekonstrukcja macierzy U*Sigma*V.T :\")\n",
    "print(U @Sigma @ VT)"
   ]
  },
  {
   "cell_type": "markdown",
   "id": "3fb4da32d2e2ad33",
   "metadata": {
    "collapsed": false,
    "jupyter": {
     "outputs_hidden": false
    }
   },
   "source": [
    "Wszystkie obrazki pochodzą z: \n",
    "Maciej Paszyński\n",
    "Wydział Informatyki\n",
    "Akademia Górniczo-Hutnicza w Krakowie\n",
    "home.agh.edu.pl/paszynsk"
   ]
  },
  {
   "cell_type": "code",
   "execution_count": null,
   "id": "dee9a9b1768e4cce",
   "metadata": {
    "ExecuteTime": {
     "end_time": "2024-04-16T21:19:21.667598Z",
     "start_time": "2024-04-16T21:19:21.665656Z"
    },
    "collapsed": false,
    "jupyter": {
     "outputs_hidden": false
    }
   },
   "outputs": [],
   "source": []
  }
 ],
 "metadata": {
  "kernelspec": {
   "display_name": "Python 3 (ipykernel)",
   "language": "python",
   "name": "python3"
  },
  "language_info": {
   "codemirror_mode": {
    "name": "ipython",
    "version": 3
   },
   "file_extension": ".py",
   "mimetype": "text/x-python",
   "name": "python",
   "nbconvert_exporter": "python",
   "pygments_lexer": "ipython3",
   "version": "3.11.5"
  }
 },
 "nbformat": 4,
 "nbformat_minor": 5
}
